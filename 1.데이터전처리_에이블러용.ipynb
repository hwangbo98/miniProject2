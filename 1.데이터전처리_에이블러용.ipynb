{
 "cells": [
  {
   "cell_type": "markdown",
   "metadata": {
    "id": "qsIsGzftJuH9"
   },
   "source": [
    "# 장애인콜택시 대기시간 예측\n",
    "## 단계1.데이터 전처리"
   ]
  },
  {
   "cell_type": "markdown",
   "metadata": {
    "id": "Dh02CX03JuES"
   },
   "source": [
    "## 0.미션\n",
    "\n",
    "* 1.데이터를 탐색하며 정보 획득\n",
    "    * 데이터는 2015-01-01 ~ 2022-12-31 까지의 서울 장애인 콜택시 운행 정보입니다. 우리는 평균대기시간을 예측하고자 합니다. \n",
    "    * 요일, 월, 계절, 연도별 운행 정보에 어떤 주기와 변화가 있는지 탐색해 봅시다.\n",
    "* 2.분석을 위한 데이터 구조 만들기\n",
    "    * 문제정의 : \n",
    "        * 전 날 콜택시 운행이 종료되었을 때, 다음 날 대기시간을 예측하고자 합니다.\n",
    "\n",
    "        * 만약 다음 날 대기시간을 예측할 수 있다면, 일정 범위 내에서 배차를 조절할 수 있을 뿐만 아니라, 향후 교통약자의 이동 편의 증진을 위한 정책 수립 및 개선에 기여할 수 있습니다. \n",
    "    * 이를 위한 데이터 구조를 만들어 봅시다.\n",
    "        * 분석 단위는 일별 데이터 입니다.\n",
    "        * 주어진 데이터 : 장애인 콜택시 운행 정보, 서울시 날씨\n",
    "        * 날씨 데이터는 실제 측정값이지만, 다음 날에 대한 예보 데이터로 간주합니다. \n",
    "            * 예를 들어, \n",
    "                * 2020-12-23 의 날씨 데이터는 전 날(12월22일) 날씨예보 데이터로 간주하여 분석을 수행합니다.\n",
    "                * 2020-12-22일의 장애인 이동 데이터로 23일의 대기시간을 예측해야 하며, 이때 고려할 날씨데이터는 23일 데이터 입니다.\n",
    "        * 장애인 이동 데이터를 기준으로 날씨 데이터를 붙여서 만듭시다.\n",
    "        * 휴무일 데이터는 패키지를 통해서 다운받아 사용합니다.\n",
    "    * Feature Engineering\n",
    "        * 대기시간에 영향을 주는 요인을 도출하고(가설수립) 이를 feature로 생성합시다.\n",
    "        * 주어진 그대로의 데이터가 아닌 새로운 feature를 생성해 봅시다.\n",
    "            * 날짜와 관련된 feature : 요일, 월, 계절 ... \n",
    "            * 시계열 특성이 반영된 feature : 최근 7일간의 평균 대기시간 ...\n",
    "\n",
    "\n"
   ]
  },
  {
   "cell_type": "markdown",
   "metadata": {
    "id": "pp6QgG00zPKL"
   },
   "source": [
    "## 1.환경설정"
   ]
  },
  {
   "cell_type": "markdown",
   "metadata": {
    "id": "stA-MFEZvYUL"
   },
   "source": [
    "* 세부 요구사항\n",
    "    - 경로 설정 : 다음의 두가지 방법 중 하나를 선택하여 폴더를 준비하고 데이터를 로딩하시오.\n",
    "        * 1) 로컬 수행(Ananconda)\n",
    "            * 제공된 압축파일을 다운받아 압축을 풀고\n",
    "            * anaconda의 root directory(보통 C:/Users/< ID > 에 project 폴더를 만들고, 복사해 넣습니다.\n",
    "        * 2) 구글콜랩\n",
    "            * 구글 드라이브 바로 밑에 project 폴더를 만들고, \n",
    "            * 데이터 파일을 복사해 넣습니다.\n",
    "    - 라이브러리 설치 및 로딩\n",
    "        * requirements.txt 파일로 부터 라이브러리 설치\n",
    "    - 기본적으로 필요한 라이브러리를 import 하도록 코드가 작성되어 있습니다. \n",
    "        * 필요하다고 판단되는 라이브러리를 추가하세요."
   ]
  },
  {
   "cell_type": "markdown",
   "metadata": {
    "id": "4FalizaIvrRi"
   },
   "source": [
    "### (1) 경로 설정"
   ]
  },
  {
   "cell_type": "markdown",
   "metadata": {
    "id": "5uNVIDDsvvFv"
   },
   "source": [
    "#### 1) 로컬 수행(Anaconda)\n",
    "* project 폴더에 필요한 파일들을 넣고, 본 파일을 열었다면, 별도 경로 지정이 필요하지 않습니다."
   ]
  },
  {
   "cell_type": "code",
   "execution_count": 1,
   "metadata": {
    "id": "QGwzRisSvzPF"
   },
   "outputs": [],
   "source": [
    "# path = 'C:/Users/User/project/'"
   ]
  },
  {
   "cell_type": "markdown",
   "metadata": {
    "id": "qOThJNEIvw4Y"
   },
   "source": [
    "#### 2) 구글 콜랩 수행"
   ]
  },
  {
   "cell_type": "markdown",
   "metadata": {
    "id": "g-R7MHCav356"
   },
   "source": [
    "* 구글 드라이브 연결"
   ]
  },
  {
   "cell_type": "code",
   "execution_count": 2,
   "metadata": {
    "colab": {
     "base_uri": "https://localhost:8080/"
    },
    "executionInfo": {
     "elapsed": 81303,
     "status": "ok",
     "timestamp": 1682642913156,
     "user": {
      "displayName": "한기영",
      "userId": "13049187003176135487"
     },
     "user_tz": -540
    },
    "id": "HOmYiPZev0qB",
    "outputId": "672eaa4e-a256-43be-d312-bf7a78a46ea9"
   },
   "outputs": [],
   "source": [
    "# from google.colab import drive\n",
    "# drive.mount('/content/drive')"
   ]
  },
  {
   "cell_type": "code",
   "execution_count": 3,
   "metadata": {
    "executionInfo": {
     "elapsed": 507,
     "status": "ok",
     "timestamp": 1682642915181,
     "user": {
      "displayName": "한기영",
      "userId": "13049187003176135487"
     },
     "user_tz": -540
    },
    "id": "GuqW8XGrv8UE"
   },
   "outputs": [],
   "source": [
    "# path = '/content/drive/MyDrive/project/'"
   ]
  },
  {
   "cell_type": "markdown",
   "metadata": {
    "id": "LPy9VO2koOHp"
   },
   "source": [
    "### (2) 라이브러리 설치 및 불러오기"
   ]
  },
  {
   "cell_type": "markdown",
   "metadata": {
    "id": "ZO8AjippwJnr"
   },
   "source": [
    "#### 1) 설치"
   ]
  },
  {
   "cell_type": "markdown",
   "metadata": {
    "id": "6WsCsW_qwJcM"
   },
   "source": [
    "* requirements.txt 파일을 아래 위치에 두고 다음 코드를 실행하시오.\n",
    "    * 로컬 : 다음 코드셀 실행\n",
    "    * 구글콜랩 : requirements.txt 파일을 왼쪽 [파일]탭에 복사해 넣고 다음 코드셀 실행"
   ]
  },
  {
   "cell_type": "code",
   "execution_count": 4,
   "metadata": {
    "id": "YQWGi48dwOOZ"
   },
   "outputs": [],
   "source": [
    "# !pip install -r requirements.txt"
   ]
  },
  {
   "cell_type": "markdown",
   "metadata": {
    "id": "V1NvAw4CwcDh"
   },
   "source": [
    "#### 2) 라이브러리 로딩"
   ]
  },
  {
   "cell_type": "code",
   "execution_count": 7,
   "metadata": {
    "executionInfo": {
     "elapsed": 1587,
     "status": "ok",
     "timestamp": 1682642920627,
     "user": {
      "displayName": "한기영",
      "userId": "13049187003176135487"
     },
     "user_tz": -540
    },
    "id": "QF5vlqOJzyvV"
   },
   "outputs": [],
   "source": [
    "import pandas as pd\n",
    "import numpy as np\n",
    "import matplotlib.pyplot as plt\n",
    "import seaborn as sns\n",
    "\n",
    "import joblib\n",
    "\n",
    "# 더 필요한 라이브러리를 아래에 추가합니다.\n",
    "\n"
   ]
  },
  {
   "cell_type": "markdown",
   "metadata": {
    "id": "wsLDv9tZc_i1"
   },
   "source": [
    "### (3) 데이터 불러오기\n",
    "* 주어진 데이터셋\n",
    "    * 장애인 콜택시 운행 정보 : open_data.csv\n",
    "    * 날씨 데이터 : weather.csv"
   ]
  },
  {
   "cell_type": "markdown",
   "metadata": {
    "id": "GH3ApIzofYPb"
   },
   "source": [
    "#### 1) 데이터로딩"
   ]
  },
  {
   "cell_type": "code",
   "execution_count": 8,
   "metadata": {
    "executionInfo": {
     "elapsed": 9,
     "status": "ok",
     "timestamp": 1682642921546,
     "user": {
      "displayName": "한기영",
      "userId": "13049187003176135487"
     },
     "user_tz": -540
    },
    "id": "FT_JFnclfcQ4"
   },
   "outputs": [
    {
     "data": {
      "text/html": [
       "<div>\n",
       "<style scoped>\n",
       "    .dataframe tbody tr th:only-of-type {\n",
       "        vertical-align: middle;\n",
       "    }\n",
       "\n",
       "    .dataframe tbody tr th {\n",
       "        vertical-align: top;\n",
       "    }\n",
       "\n",
       "    .dataframe thead th {\n",
       "        text-align: right;\n",
       "    }\n",
       "</style>\n",
       "<table border=\"1\" class=\"dataframe\">\n",
       "  <thead>\n",
       "    <tr style=\"text-align: right;\">\n",
       "      <th></th>\n",
       "      <th>기준일</th>\n",
       "      <th>차량운행</th>\n",
       "      <th>접수건</th>\n",
       "      <th>탑승건</th>\n",
       "      <th>평균대기시간</th>\n",
       "      <th>평균요금</th>\n",
       "      <th>평균승차거리</th>\n",
       "    </tr>\n",
       "  </thead>\n",
       "  <tbody>\n",
       "    <tr>\n",
       "      <th>0</th>\n",
       "      <td>2015-01-01</td>\n",
       "      <td>213</td>\n",
       "      <td>1023</td>\n",
       "      <td>924</td>\n",
       "      <td>23.2</td>\n",
       "      <td>2427</td>\n",
       "      <td>10764</td>\n",
       "    </tr>\n",
       "    <tr>\n",
       "      <th>1</th>\n",
       "      <td>2015-01-02</td>\n",
       "      <td>420</td>\n",
       "      <td>3158</td>\n",
       "      <td>2839</td>\n",
       "      <td>17.2</td>\n",
       "      <td>2216</td>\n",
       "      <td>8611</td>\n",
       "    </tr>\n",
       "    <tr>\n",
       "      <th>2</th>\n",
       "      <td>2015-01-03</td>\n",
       "      <td>209</td>\n",
       "      <td>1648</td>\n",
       "      <td>1514</td>\n",
       "      <td>26.2</td>\n",
       "      <td>2377</td>\n",
       "      <td>10198</td>\n",
       "    </tr>\n",
       "    <tr>\n",
       "      <th>3</th>\n",
       "      <td>2015-01-04</td>\n",
       "      <td>196</td>\n",
       "      <td>1646</td>\n",
       "      <td>1526</td>\n",
       "      <td>24.5</td>\n",
       "      <td>2431</td>\n",
       "      <td>10955</td>\n",
       "    </tr>\n",
       "    <tr>\n",
       "      <th>4</th>\n",
       "      <td>2015-01-05</td>\n",
       "      <td>421</td>\n",
       "      <td>4250</td>\n",
       "      <td>3730</td>\n",
       "      <td>26.2</td>\n",
       "      <td>2214</td>\n",
       "      <td>8663</td>\n",
       "    </tr>\n",
       "  </tbody>\n",
       "</table>\n",
       "</div>"
      ],
      "text/plain": [
       "          기준일  차량운행   접수건   탑승건  평균대기시간  평균요금  평균승차거리\n",
       "0  2015-01-01   213  1023   924    23.2  2427   10764\n",
       "1  2015-01-02   420  3158  2839    17.2  2216    8611\n",
       "2  2015-01-03   209  1648  1514    26.2  2377   10198\n",
       "3  2015-01-04   196  1646  1526    24.5  2431   10955\n",
       "4  2015-01-05   421  4250  3730    26.2  2214    8663"
      ]
     },
     "execution_count": 8,
     "metadata": {},
     "output_type": "execute_result"
    }
   ],
   "source": [
    "# 아래에 실습코드를 작성하고 결과를 확인합니다.\n",
    "taxi_df = pd.read_csv('open_data.csv')\n",
    "\n",
    "taxi_df.head()"
   ]
  },
  {
   "cell_type": "code",
   "execution_count": 9,
   "metadata": {
    "colab": {
     "base_uri": "https://localhost:8080/",
     "height": 423
    },
    "executionInfo": {
     "elapsed": 336,
     "status": "ok",
     "timestamp": 1682643012931,
     "user": {
      "displayName": "한기영",
      "userId": "13049187003176135487"
     },
     "user_tz": -540
    },
    "id": "ZpMoNMpcQoQ5",
    "outputId": "69c23dbe-adac-4ee6-edd5-18e8da865be0"
   },
   "outputs": [
    {
     "data": {
      "text/html": [
       "<div>\n",
       "<style scoped>\n",
       "    .dataframe tbody tr th:only-of-type {\n",
       "        vertical-align: middle;\n",
       "    }\n",
       "\n",
       "    .dataframe tbody tr th {\n",
       "        vertical-align: top;\n",
       "    }\n",
       "\n",
       "    .dataframe thead th {\n",
       "        text-align: right;\n",
       "    }\n",
       "</style>\n",
       "<table border=\"1\" class=\"dataframe\">\n",
       "  <thead>\n",
       "    <tr style=\"text-align: right;\">\n",
       "      <th></th>\n",
       "      <th>Date</th>\n",
       "      <th>temp_max</th>\n",
       "      <th>temp_min</th>\n",
       "      <th>rain(mm)</th>\n",
       "      <th>humidity_max(%)</th>\n",
       "      <th>humidity_min(%)</th>\n",
       "      <th>sunshine(MJ/m2)</th>\n",
       "    </tr>\n",
       "  </thead>\n",
       "  <tbody>\n",
       "    <tr>\n",
       "      <th>0</th>\n",
       "      <td>2012-01-01</td>\n",
       "      <td>0.4</td>\n",
       "      <td>-6.6</td>\n",
       "      <td>0.0</td>\n",
       "      <td>77.0</td>\n",
       "      <td>45.0</td>\n",
       "      <td>4.90</td>\n",
       "    </tr>\n",
       "    <tr>\n",
       "      <th>1</th>\n",
       "      <td>2012-01-02</td>\n",
       "      <td>-1.2</td>\n",
       "      <td>-8.3</td>\n",
       "      <td>0.0</td>\n",
       "      <td>80.0</td>\n",
       "      <td>48.0</td>\n",
       "      <td>6.16</td>\n",
       "    </tr>\n",
       "    <tr>\n",
       "      <th>2</th>\n",
       "      <td>2012-01-03</td>\n",
       "      <td>-0.4</td>\n",
       "      <td>-6.6</td>\n",
       "      <td>0.4</td>\n",
       "      <td>86.0</td>\n",
       "      <td>45.0</td>\n",
       "      <td>4.46</td>\n",
       "    </tr>\n",
       "    <tr>\n",
       "      <th>3</th>\n",
       "      <td>2012-01-04</td>\n",
       "      <td>-4.6</td>\n",
       "      <td>-9.5</td>\n",
       "      <td>0.0</td>\n",
       "      <td>66.0</td>\n",
       "      <td>38.0</td>\n",
       "      <td>8.05</td>\n",
       "    </tr>\n",
       "    <tr>\n",
       "      <th>4</th>\n",
       "      <td>2012-01-05</td>\n",
       "      <td>-1.4</td>\n",
       "      <td>-9.6</td>\n",
       "      <td>0.0</td>\n",
       "      <td>71.0</td>\n",
       "      <td>28.0</td>\n",
       "      <td>9.14</td>\n",
       "    </tr>\n",
       "  </tbody>\n",
       "</table>\n",
       "</div>"
      ],
      "text/plain": [
       "         Date  temp_max  temp_min  rain(mm)  humidity_max(%)  humidity_min(%)  \\\n",
       "0  2012-01-01       0.4      -6.6       0.0             77.0             45.0   \n",
       "1  2012-01-02      -1.2      -8.3       0.0             80.0             48.0   \n",
       "2  2012-01-03      -0.4      -6.6       0.4             86.0             45.0   \n",
       "3  2012-01-04      -4.6      -9.5       0.0             66.0             38.0   \n",
       "4  2012-01-05      -1.4      -9.6       0.0             71.0             28.0   \n",
       "\n",
       "   sunshine(MJ/m2)  \n",
       "0             4.90  \n",
       "1             6.16  \n",
       "2             4.46  \n",
       "3             8.05  \n",
       "4             9.14  "
      ]
     },
     "execution_count": 9,
     "metadata": {},
     "output_type": "execute_result"
    }
   ],
   "source": [
    "# 아래에 실습코드를 작성하고 결과를 확인합니다.\n",
    "weather_df = pd.read_csv('weather.csv')\n",
    "\n",
    "weather_df.head()"
   ]
  },
  {
   "cell_type": "code",
   "execution_count": null,
   "metadata": {
    "colab": {
     "base_uri": "https://localhost:8080/",
     "height": 423
    },
    "executionInfo": {
     "elapsed": 353,
     "status": "ok",
     "timestamp": 1682643013633,
     "user": {
      "displayName": "한기영",
      "userId": "13049187003176135487"
     },
     "user_tz": -540
    },
    "id": "RTdrJsWxoTYC",
    "outputId": "5f51ae36-1f3f-4efd-eb0f-efb389d60fe8"
   },
   "outputs": [],
   "source": [
    "# 아래에 실습코드를 작성하고 결과를 확인합니다.\n"
   ]
  },
  {
   "cell_type": "markdown",
   "metadata": {
    "id": "ueRYWzcto1x8"
   },
   "source": [
    "#### 2) 기본 정보 조회"
   ]
  },
  {
   "cell_type": "code",
   "execution_count": 11,
   "metadata": {
    "colab": {
     "base_uri": "https://localhost:8080/"
    },
    "executionInfo": {
     "elapsed": 529,
     "status": "ok",
     "timestamp": 1682643014155,
     "user": {
      "displayName": "한기영",
      "userId": "13049187003176135487"
     },
     "user_tz": -540
    },
    "id": "ohfA--UBxczp",
    "outputId": "b12a7804-c1ae-4826-9c32-875f2eb36e47"
   },
   "outputs": [
    {
     "name": "stdout",
     "output_type": "stream",
     "text": [
      "taxi_shape : (2922, 7), weather_shape : (4018, 7)\n"
     ]
    }
   ],
   "source": [
    "# 아래에 실습코드를 작성하고 결과를 확인합니다.\n",
    "# 전체 데이터의 행,열 개수 확인\n",
    "\n",
    "print(f'taxi_shape : {taxi_df.shape}, weather_shape : {weather_df.shape}')\n",
    "\n"
   ]
  },
  {
   "cell_type": "code",
   "execution_count": 12,
   "metadata": {
    "colab": {
     "base_uri": "https://localhost:8080/"
    },
    "executionInfo": {
     "elapsed": 30,
     "status": "ok",
     "timestamp": 1682643014157,
     "user": {
      "displayName": "한기영",
      "userId": "13049187003176135487"
     },
     "user_tz": -540
    },
    "id": "4ykFk03LpEk2",
    "outputId": "a5339d95-e5e7-4d23-cb5c-6b483a2509b2"
   },
   "outputs": [
    {
     "name": "stdout",
     "output_type": "stream",
     "text": [
      "<class 'pandas.core.frame.DataFrame'>\n",
      "RangeIndex: 2922 entries, 0 to 2921\n",
      "Data columns (total 7 columns):\n",
      " #   Column  Non-Null Count  Dtype  \n",
      "---  ------  --------------  -----  \n",
      " 0   기준일     2922 non-null   object \n",
      " 1   차량운행    2922 non-null   int64  \n",
      " 2   접수건     2922 non-null   int64  \n",
      " 3   탑승건     2922 non-null   int64  \n",
      " 4   평균대기시간  2922 non-null   float64\n",
      " 5   평균요금    2922 non-null   int64  \n",
      " 6   평균승차거리  2922 non-null   int64  \n",
      "dtypes: float64(1), int64(5), object(1)\n",
      "memory usage: 159.9+ KB\n"
     ]
    }
   ],
   "source": [
    "# 아래에 실습코드를 작성하고 결과를 확인합니다.\n",
    "# 전체 데이터의 모든 변수 확인\n",
    "taxi_df.info()\n"
   ]
  },
  {
   "cell_type": "code",
   "execution_count": 13,
   "metadata": {},
   "outputs": [
    {
     "name": "stdout",
     "output_type": "stream",
     "text": [
      "<class 'pandas.core.frame.DataFrame'>\n",
      "RangeIndex: 4018 entries, 0 to 4017\n",
      "Data columns (total 7 columns):\n",
      " #   Column           Non-Null Count  Dtype  \n",
      "---  ------           --------------  -----  \n",
      " 0   Date             4018 non-null   object \n",
      " 1   temp_max         4018 non-null   float64\n",
      " 2   temp_min         4018 non-null   float64\n",
      " 3   rain(mm)         4018 non-null   float64\n",
      " 4   humidity_max(%)  4018 non-null   float64\n",
      " 5   humidity_min(%)  4018 non-null   float64\n",
      " 6   sunshine(MJ/m2)  4018 non-null   float64\n",
      "dtypes: float64(6), object(1)\n",
      "memory usage: 219.9+ KB\n"
     ]
    }
   ],
   "source": [
    "# 날씨 데이터의 변수 확인\n",
    "weather_df.info()"
   ]
  },
  {
   "cell_type": "markdown",
   "metadata": {
    "id": "n0VtxEINgi2V"
   },
   "source": [
    "#### 3) 칼럼이름을 영어로 변경\n",
    "* 꼭 필요한 작업은 아니지만, 데이터를 편리하게 다루고 차트에서 불필요한 경고메시지를 띄우지 않게 하기 위해 영문으로 변경하기를 권장합니다.\n"
   ]
  },
  {
   "cell_type": "code",
   "execution_count": 26,
   "metadata": {
    "colab": {
     "base_uri": "https://localhost:8080/",
     "height": 423
    },
    "executionInfo": {
     "elapsed": 28,
     "status": "ok",
     "timestamp": 1682643014158,
     "user": {
      "displayName": "한기영",
      "userId": "13049187003176135487"
     },
     "user_tz": -540
    },
    "id": "Az4HVmSagn0I",
    "outputId": "14a9e7b6-75c2-48de-c5af-066d3bf5a035"
   },
   "outputs": [
    {
     "data": {
      "text/html": [
       "<div>\n",
       "<style scoped>\n",
       "    .dataframe tbody tr th:only-of-type {\n",
       "        vertical-align: middle;\n",
       "    }\n",
       "\n",
       "    .dataframe tbody tr th {\n",
       "        vertical-align: top;\n",
       "    }\n",
       "\n",
       "    .dataframe thead th {\n",
       "        text-align: right;\n",
       "    }\n",
       "</style>\n",
       "<table border=\"1\" class=\"dataframe\">\n",
       "  <thead>\n",
       "    <tr style=\"text-align: right;\">\n",
       "      <th></th>\n",
       "      <th>Date</th>\n",
       "      <th>Vehicles Operated</th>\n",
       "      <th>Recevied Cases</th>\n",
       "      <th>Rides</th>\n",
       "      <th>Average Waiting Time</th>\n",
       "      <th>Average Fare</th>\n",
       "      <th>Average Riding Distance</th>\n",
       "    </tr>\n",
       "  </thead>\n",
       "  <tbody>\n",
       "    <tr>\n",
       "      <th>0</th>\n",
       "      <td>2015-01-01</td>\n",
       "      <td>213</td>\n",
       "      <td>1023</td>\n",
       "      <td>924</td>\n",
       "      <td>23.2</td>\n",
       "      <td>2427</td>\n",
       "      <td>10764</td>\n",
       "    </tr>\n",
       "    <tr>\n",
       "      <th>1</th>\n",
       "      <td>2015-01-02</td>\n",
       "      <td>420</td>\n",
       "      <td>3158</td>\n",
       "      <td>2839</td>\n",
       "      <td>17.2</td>\n",
       "      <td>2216</td>\n",
       "      <td>8611</td>\n",
       "    </tr>\n",
       "    <tr>\n",
       "      <th>2</th>\n",
       "      <td>2015-01-03</td>\n",
       "      <td>209</td>\n",
       "      <td>1648</td>\n",
       "      <td>1514</td>\n",
       "      <td>26.2</td>\n",
       "      <td>2377</td>\n",
       "      <td>10198</td>\n",
       "    </tr>\n",
       "    <tr>\n",
       "      <th>3</th>\n",
       "      <td>2015-01-04</td>\n",
       "      <td>196</td>\n",
       "      <td>1646</td>\n",
       "      <td>1526</td>\n",
       "      <td>24.5</td>\n",
       "      <td>2431</td>\n",
       "      <td>10955</td>\n",
       "    </tr>\n",
       "    <tr>\n",
       "      <th>4</th>\n",
       "      <td>2015-01-05</td>\n",
       "      <td>421</td>\n",
       "      <td>4250</td>\n",
       "      <td>3730</td>\n",
       "      <td>26.2</td>\n",
       "      <td>2214</td>\n",
       "      <td>8663</td>\n",
       "    </tr>\n",
       "  </tbody>\n",
       "</table>\n",
       "</div>"
      ],
      "text/plain": [
       "         Date  Vehicles Operated  Recevied Cases  Rides  Average Waiting Time  \\\n",
       "0  2015-01-01                213            1023    924                  23.2   \n",
       "1  2015-01-02                420            3158   2839                  17.2   \n",
       "2  2015-01-03                209            1648   1514                  26.2   \n",
       "3  2015-01-04                196            1646   1526                  24.5   \n",
       "4  2015-01-05                421            4250   3730                  26.2   \n",
       "\n",
       "   Average Fare  Average Riding Distance  \n",
       "0          2427                    10764  \n",
       "1          2216                     8611  \n",
       "2          2377                    10198  \n",
       "3          2431                    10955  \n",
       "4          2214                     8663  "
      ]
     },
     "execution_count": 26,
     "metadata": {},
     "output_type": "execute_result"
    }
   ],
   "source": [
    "# 아래에 실습코드를 작성하고 결과를 확인합니다.\n",
    "\n",
    "taxi_df.rename(columns={'기준일': 'Date', '차량운행': 'Vehicles Operated', '접수건' : 'Recevied Cases', '탑승건' : 'Rides',\n",
    "                       '평균대기시간' : 'Average Waiting Time', '평균요금' : 'Average Fare', '평균승차거리' : 'Average Riding Distance' }, inplace=True)\n",
    "\n",
    "taxi_df.head()"
   ]
  },
  {
   "cell_type": "markdown",
   "metadata": {},
   "source": [
    "#### 4) 통계량 검증\n"
   ]
  },
  {
   "cell_type": "code",
   "execution_count": 27,
   "metadata": {},
   "outputs": [
    {
     "data": {
      "text/html": [
       "<div>\n",
       "<style scoped>\n",
       "    .dataframe tbody tr th:only-of-type {\n",
       "        vertical-align: middle;\n",
       "    }\n",
       "\n",
       "    .dataframe tbody tr th {\n",
       "        vertical-align: top;\n",
       "    }\n",
       "\n",
       "    .dataframe thead th {\n",
       "        text-align: right;\n",
       "    }\n",
       "</style>\n",
       "<table border=\"1\" class=\"dataframe\">\n",
       "  <thead>\n",
       "    <tr style=\"text-align: right;\">\n",
       "      <th></th>\n",
       "      <th>Vehicles Operated</th>\n",
       "      <th>Recevied Cases</th>\n",
       "      <th>Rides</th>\n",
       "      <th>Average Waiting Time</th>\n",
       "      <th>Average Fare</th>\n",
       "      <th>Average Riding Distance</th>\n",
       "    </tr>\n",
       "  </thead>\n",
       "  <tbody>\n",
       "    <tr>\n",
       "      <th>count</th>\n",
       "      <td>2922.000000</td>\n",
       "      <td>2922.000000</td>\n",
       "      <td>2922.000000</td>\n",
       "      <td>2922.000000</td>\n",
       "      <td>2922.000000</td>\n",
       "      <td>2922.000000</td>\n",
       "    </tr>\n",
       "    <tr>\n",
       "      <th>mean</th>\n",
       "      <td>418.701916</td>\n",
       "      <td>3925.607803</td>\n",
       "      <td>3283.895277</td>\n",
       "      <td>40.305681</td>\n",
       "      <td>2304.272416</td>\n",
       "      <td>9253.500000</td>\n",
       "    </tr>\n",
       "    <tr>\n",
       "      <th>std</th>\n",
       "      <td>133.755162</td>\n",
       "      <td>1509.741713</td>\n",
       "      <td>1249.165876</td>\n",
       "      <td>14.098550</td>\n",
       "      <td>107.260080</td>\n",
       "      <td>1019.198152</td>\n",
       "    </tr>\n",
       "    <tr>\n",
       "      <th>min</th>\n",
       "      <td>132.000000</td>\n",
       "      <td>527.000000</td>\n",
       "      <td>462.000000</td>\n",
       "      <td>17.200000</td>\n",
       "      <td>2131.000000</td>\n",
       "      <td>7672.000000</td>\n",
       "    </tr>\n",
       "    <tr>\n",
       "      <th>25%</th>\n",
       "      <td>278.000000</td>\n",
       "      <td>2162.500000</td>\n",
       "      <td>1779.000000</td>\n",
       "      <td>29.600000</td>\n",
       "      <td>2228.000000</td>\n",
       "      <td>8521.000000</td>\n",
       "    </tr>\n",
       "    <tr>\n",
       "      <th>50%</th>\n",
       "      <td>454.000000</td>\n",
       "      <td>4720.500000</td>\n",
       "      <td>3932.500000</td>\n",
       "      <td>38.200000</td>\n",
       "      <td>2257.000000</td>\n",
       "      <td>8821.500000</td>\n",
       "    </tr>\n",
       "    <tr>\n",
       "      <th>75%</th>\n",
       "      <td>522.000000</td>\n",
       "      <td>5110.000000</td>\n",
       "      <td>4241.000000</td>\n",
       "      <td>48.600000</td>\n",
       "      <td>2400.750000</td>\n",
       "      <td>10153.000000</td>\n",
       "    </tr>\n",
       "    <tr>\n",
       "      <th>max</th>\n",
       "      <td>1413.000000</td>\n",
       "      <td>6182.000000</td>\n",
       "      <td>5189.000000</td>\n",
       "      <td>96.100000</td>\n",
       "      <td>2733.000000</td>\n",
       "      <td>14136.000000</td>\n",
       "    </tr>\n",
       "  </tbody>\n",
       "</table>\n",
       "</div>"
      ],
      "text/plain": [
       "       Vehicles Operated  Recevied Cases        Rides  Average Waiting Time  \\\n",
       "count        2922.000000     2922.000000  2922.000000           2922.000000   \n",
       "mean          418.701916     3925.607803  3283.895277             40.305681   \n",
       "std           133.755162     1509.741713  1249.165876             14.098550   \n",
       "min           132.000000      527.000000   462.000000             17.200000   \n",
       "25%           278.000000     2162.500000  1779.000000             29.600000   \n",
       "50%           454.000000     4720.500000  3932.500000             38.200000   \n",
       "75%           522.000000     5110.000000  4241.000000             48.600000   \n",
       "max          1413.000000     6182.000000  5189.000000             96.100000   \n",
       "\n",
       "       Average Fare  Average Riding Distance  \n",
       "count   2922.000000              2922.000000  \n",
       "mean    2304.272416              9253.500000  \n",
       "std      107.260080              1019.198152  \n",
       "min     2131.000000              7672.000000  \n",
       "25%     2228.000000              8521.000000  \n",
       "50%     2257.000000              8821.500000  \n",
       "75%     2400.750000             10153.000000  \n",
       "max     2733.000000             14136.000000  "
      ]
     },
     "execution_count": 27,
     "metadata": {},
     "output_type": "execute_result"
    }
   ],
   "source": [
    "taxi_df.describe()"
   ]
  },
  {
   "cell_type": "markdown",
   "metadata": {},
   "source": [
    "#### 5) 결측치 확인"
   ]
  },
  {
   "cell_type": "code",
   "execution_count": 28,
   "metadata": {},
   "outputs": [
    {
     "data": {
      "text/plain": [
       "Date                       0\n",
       "Vehicles Operated          0\n",
       "Recevied Cases             0\n",
       "Rides                      0\n",
       "Average Waiting Time       0\n",
       "Average Fare               0\n",
       "Average Riding Distance    0\n",
       "dtype: int64"
      ]
     },
     "execution_count": 28,
     "metadata": {},
     "output_type": "execute_result"
    }
   ],
   "source": [
    "taxi_df.isna().sum()"
   ]
  },
  {
   "cell_type": "markdown",
   "metadata": {
    "id": "vYhLUoRxRSEQ"
   },
   "source": [
    "## 2.데이터 기본 탐색\n",
    "\n",
    "* **세부요구사항**\n",
    "    * 날짜 요소에 따라 각 정보의 패턴을 조회 합니다.\n",
    "        * 일별, 요일별, 주차별, 월별, 연도별\n",
    "        * 접수건, 탑승건, 거리, 요금, 대기시간 등\n",
    "    * 제시된 범위 외에 가능하다면 추가 탐색을 시도합니다."
   ]
  },
  {
   "cell_type": "markdown",
   "metadata": {
    "id": "vY_rPCK5pH-s"
   },
   "source": [
    "### (1) 주기별 분석을 위해서 날짜 변수 추가하기\n",
    "* data를 복사합니다.\n",
    "* 복사한 df에 요일, 주차, 월, 연도 등을 추가합니다."
   ]
  },
  {
   "cell_type": "code",
   "execution_count": 29,
   "metadata": {
    "executionInfo": {
     "elapsed": 28,
     "status": "ok",
     "timestamp": 1682643014160,
     "user": {
      "displayName": "한기영",
      "userId": "13049187003176135487"
     },
     "user_tz": -540
    },
    "id": "2oGkF12Ape-T"
   },
   "outputs": [
    {
     "data": {
      "text/html": [
       "<div>\n",
       "<style scoped>\n",
       "    .dataframe tbody tr th:only-of-type {\n",
       "        vertical-align: middle;\n",
       "    }\n",
       "\n",
       "    .dataframe tbody tr th {\n",
       "        vertical-align: top;\n",
       "    }\n",
       "\n",
       "    .dataframe thead th {\n",
       "        text-align: right;\n",
       "    }\n",
       "</style>\n",
       "<table border=\"1\" class=\"dataframe\">\n",
       "  <thead>\n",
       "    <tr style=\"text-align: right;\">\n",
       "      <th></th>\n",
       "      <th>Date</th>\n",
       "      <th>Vehicles Operated</th>\n",
       "      <th>Recevied Cases</th>\n",
       "      <th>Rides</th>\n",
       "      <th>Average Waiting Time</th>\n",
       "      <th>Average Fare</th>\n",
       "      <th>Average Riding Distance</th>\n",
       "    </tr>\n",
       "  </thead>\n",
       "  <tbody>\n",
       "    <tr>\n",
       "      <th>0</th>\n",
       "      <td>2015-01-01</td>\n",
       "      <td>213</td>\n",
       "      <td>1023</td>\n",
       "      <td>924</td>\n",
       "      <td>23.2</td>\n",
       "      <td>2427</td>\n",
       "      <td>10764</td>\n",
       "    </tr>\n",
       "    <tr>\n",
       "      <th>1</th>\n",
       "      <td>2015-01-02</td>\n",
       "      <td>420</td>\n",
       "      <td>3158</td>\n",
       "      <td>2839</td>\n",
       "      <td>17.2</td>\n",
       "      <td>2216</td>\n",
       "      <td>8611</td>\n",
       "    </tr>\n",
       "    <tr>\n",
       "      <th>2</th>\n",
       "      <td>2015-01-03</td>\n",
       "      <td>209</td>\n",
       "      <td>1648</td>\n",
       "      <td>1514</td>\n",
       "      <td>26.2</td>\n",
       "      <td>2377</td>\n",
       "      <td>10198</td>\n",
       "    </tr>\n",
       "    <tr>\n",
       "      <th>3</th>\n",
       "      <td>2015-01-04</td>\n",
       "      <td>196</td>\n",
       "      <td>1646</td>\n",
       "      <td>1526</td>\n",
       "      <td>24.5</td>\n",
       "      <td>2431</td>\n",
       "      <td>10955</td>\n",
       "    </tr>\n",
       "    <tr>\n",
       "      <th>4</th>\n",
       "      <td>2015-01-05</td>\n",
       "      <td>421</td>\n",
       "      <td>4250</td>\n",
       "      <td>3730</td>\n",
       "      <td>26.2</td>\n",
       "      <td>2214</td>\n",
       "      <td>8663</td>\n",
       "    </tr>\n",
       "  </tbody>\n",
       "</table>\n",
       "</div>"
      ],
      "text/plain": [
       "         Date  Vehicles Operated  Recevied Cases  Rides  Average Waiting Time  \\\n",
       "0  2015-01-01                213            1023    924                  23.2   \n",
       "1  2015-01-02                420            3158   2839                  17.2   \n",
       "2  2015-01-03                209            1648   1514                  26.2   \n",
       "3  2015-01-04                196            1646   1526                  24.5   \n",
       "4  2015-01-05                421            4250   3730                  26.2   \n",
       "\n",
       "   Average Fare  Average Riding Distance  \n",
       "0          2427                    10764  \n",
       "1          2216                     8611  \n",
       "2          2377                    10198  \n",
       "3          2431                    10955  \n",
       "4          2214                     8663  "
      ]
     },
     "execution_count": 29,
     "metadata": {},
     "output_type": "execute_result"
    }
   ],
   "source": [
    "# 아래에 실습코드를 작성하고 결과를 확인합니다.\n",
    "taxi_copy_df = taxi_df.copy()\n",
    "\n",
    "taxi_copy_df.head()\n"
   ]
  },
  {
   "cell_type": "code",
   "execution_count": 30,
   "metadata": {
    "colab": {
     "base_uri": "https://localhost:8080/",
     "height": 262
    },
    "executionInfo": {
     "elapsed": 28,
     "status": "ok",
     "timestamp": 1682643014161,
     "user": {
      "displayName": "한기영",
      "userId": "13049187003176135487"
     },
     "user_tz": -540
    },
    "id": "8DbYHJNiplGu",
    "outputId": "a6f7fec0-f935-4f96-8b2e-ff73abb58fb1"
   },
   "outputs": [
    {
     "name": "stdout",
     "output_type": "stream",
     "text": [
      "<class 'pandas.core.frame.DataFrame'>\n",
      "RangeIndex: 2922 entries, 0 to 2921\n",
      "Data columns (total 7 columns):\n",
      " #   Column                   Non-Null Count  Dtype         \n",
      "---  ------                   --------------  -----         \n",
      " 0   Date                     2922 non-null   datetime64[ns]\n",
      " 1   Vehicles Operated        2922 non-null   int64         \n",
      " 2   Recevied Cases           2922 non-null   int64         \n",
      " 3   Rides                    2922 non-null   int64         \n",
      " 4   Average Waiting Time     2922 non-null   float64       \n",
      " 5   Average Fare             2922 non-null   int64         \n",
      " 6   Average Riding Distance  2922 non-null   int64         \n",
      "dtypes: datetime64[ns](1), float64(1), int64(5)\n",
      "memory usage: 159.9 KB\n"
     ]
    }
   ],
   "source": [
    "# 아래에 실습코드를 작성하고 결과를 확인합니다.\n",
    "# DateTime 형식으로 날짜 변경\n",
    "\n",
    "taxi_copy_df['Date'] = pd.to_datetime(taxi_copy_df['Date'])\n",
    "\n",
    "taxi_copy_df.info()\n"
   ]
  },
  {
   "cell_type": "code",
   "execution_count": 31,
   "metadata": {},
   "outputs": [
    {
     "data": {
      "text/html": [
       "<div>\n",
       "<style scoped>\n",
       "    .dataframe tbody tr th:only-of-type {\n",
       "        vertical-align: middle;\n",
       "    }\n",
       "\n",
       "    .dataframe tbody tr th {\n",
       "        vertical-align: top;\n",
       "    }\n",
       "\n",
       "    .dataframe thead th {\n",
       "        text-align: right;\n",
       "    }\n",
       "</style>\n",
       "<table border=\"1\" class=\"dataframe\">\n",
       "  <thead>\n",
       "    <tr style=\"text-align: right;\">\n",
       "      <th></th>\n",
       "      <th>Date</th>\n",
       "      <th>Vehicles Operated</th>\n",
       "      <th>Recevied Cases</th>\n",
       "      <th>Rides</th>\n",
       "      <th>Average Waiting Time</th>\n",
       "      <th>Average Fare</th>\n",
       "      <th>Average Riding Distance</th>\n",
       "      <th>year</th>\n",
       "      <th>month</th>\n",
       "      <th>WeekNumber</th>\n",
       "      <th>DayOfWeek</th>\n",
       "    </tr>\n",
       "  </thead>\n",
       "  <tbody>\n",
       "    <tr>\n",
       "      <th>0</th>\n",
       "      <td>2015-01-01</td>\n",
       "      <td>213</td>\n",
       "      <td>1023</td>\n",
       "      <td>924</td>\n",
       "      <td>23.2</td>\n",
       "      <td>2427</td>\n",
       "      <td>10764</td>\n",
       "      <td>2015</td>\n",
       "      <td>1</td>\n",
       "      <td>1</td>\n",
       "      <td>Thursday</td>\n",
       "    </tr>\n",
       "    <tr>\n",
       "      <th>1</th>\n",
       "      <td>2015-01-02</td>\n",
       "      <td>420</td>\n",
       "      <td>3158</td>\n",
       "      <td>2839</td>\n",
       "      <td>17.2</td>\n",
       "      <td>2216</td>\n",
       "      <td>8611</td>\n",
       "      <td>2015</td>\n",
       "      <td>1</td>\n",
       "      <td>1</td>\n",
       "      <td>Friday</td>\n",
       "    </tr>\n",
       "    <tr>\n",
       "      <th>2</th>\n",
       "      <td>2015-01-03</td>\n",
       "      <td>209</td>\n",
       "      <td>1648</td>\n",
       "      <td>1514</td>\n",
       "      <td>26.2</td>\n",
       "      <td>2377</td>\n",
       "      <td>10198</td>\n",
       "      <td>2015</td>\n",
       "      <td>1</td>\n",
       "      <td>1</td>\n",
       "      <td>Saturday</td>\n",
       "    </tr>\n",
       "    <tr>\n",
       "      <th>3</th>\n",
       "      <td>2015-01-04</td>\n",
       "      <td>196</td>\n",
       "      <td>1646</td>\n",
       "      <td>1526</td>\n",
       "      <td>24.5</td>\n",
       "      <td>2431</td>\n",
       "      <td>10955</td>\n",
       "      <td>2015</td>\n",
       "      <td>1</td>\n",
       "      <td>1</td>\n",
       "      <td>Sunday</td>\n",
       "    </tr>\n",
       "    <tr>\n",
       "      <th>4</th>\n",
       "      <td>2015-01-05</td>\n",
       "      <td>421</td>\n",
       "      <td>4250</td>\n",
       "      <td>3730</td>\n",
       "      <td>26.2</td>\n",
       "      <td>2214</td>\n",
       "      <td>8663</td>\n",
       "      <td>2015</td>\n",
       "      <td>1</td>\n",
       "      <td>2</td>\n",
       "      <td>Monday</td>\n",
       "    </tr>\n",
       "  </tbody>\n",
       "</table>\n",
       "</div>"
      ],
      "text/plain": [
       "        Date  Vehicles Operated  Recevied Cases  Rides  Average Waiting Time  \\\n",
       "0 2015-01-01                213            1023    924                  23.2   \n",
       "1 2015-01-02                420            3158   2839                  17.2   \n",
       "2 2015-01-03                209            1648   1514                  26.2   \n",
       "3 2015-01-04                196            1646   1526                  24.5   \n",
       "4 2015-01-05                421            4250   3730                  26.2   \n",
       "\n",
       "   Average Fare  Average Riding Distance  year  month  WeekNumber DayOfWeek  \n",
       "0          2427                    10764  2015      1           1  Thursday  \n",
       "1          2216                     8611  2015      1           1    Friday  \n",
       "2          2377                    10198  2015      1           1  Saturday  \n",
       "3          2431                    10955  2015      1           1    Sunday  \n",
       "4          2214                     8663  2015      1           2    Monday  "
      ]
     },
     "execution_count": 31,
     "metadata": {},
     "output_type": "execute_result"
    }
   ],
   "source": [
    "taxi_copy_df['year'] = taxi_copy_df['Date'].dt.year\n",
    "taxi_copy_df['month'] = taxi_copy_df['Date'].dt.month\n",
    "taxi_copy_df['WeekNumber'] = taxi_copy_df['Date'].dt.isocalendar().week\n",
    "taxi_copy_df['DayOfWeek'] = taxi_copy_df['Date'].dt.day_name()\n",
    "\n",
    "taxi_copy_df.head()"
   ]
  },
  {
   "cell_type": "markdown",
   "metadata": {
    "id": "DXi5TFy7p0DR"
   },
   "source": [
    "### (2) 일별"
   ]
  },
  {
   "cell_type": "markdown",
   "metadata": {
    "id": "IQBMWuMzqrjF"
   },
   "source": [
    "* 차량 운행수"
   ]
  },
  {
   "cell_type": "code",
   "execution_count": 54,
   "metadata": {},
   "outputs": [
    {
     "data": {
      "text/html": [
       "<div>\n",
       "<style scoped>\n",
       "    .dataframe tbody tr th:only-of-type {\n",
       "        vertical-align: middle;\n",
       "    }\n",
       "\n",
       "    .dataframe tbody tr th {\n",
       "        vertical-align: top;\n",
       "    }\n",
       "\n",
       "    .dataframe thead th {\n",
       "        text-align: right;\n",
       "    }\n",
       "</style>\n",
       "<table border=\"1\" class=\"dataframe\">\n",
       "  <thead>\n",
       "    <tr style=\"text-align: right;\">\n",
       "      <th></th>\n",
       "      <th>sum</th>\n",
       "      <th>mean</th>\n",
       "      <th>count</th>\n",
       "    </tr>\n",
       "    <tr>\n",
       "      <th>year</th>\n",
       "      <th></th>\n",
       "      <th></th>\n",
       "      <th></th>\n",
       "    </tr>\n",
       "  </thead>\n",
       "  <tbody>\n",
       "    <tr>\n",
       "      <th>2015</th>\n",
       "      <td>139236</td>\n",
       "      <td>381.468493</td>\n",
       "      <td>365</td>\n",
       "    </tr>\n",
       "    <tr>\n",
       "      <th>2016</th>\n",
       "      <td>142855</td>\n",
       "      <td>390.314208</td>\n",
       "      <td>366</td>\n",
       "    </tr>\n",
       "    <tr>\n",
       "      <th>2017</th>\n",
       "      <td>147970</td>\n",
       "      <td>405.397260</td>\n",
       "      <td>365</td>\n",
       "    </tr>\n",
       "    <tr>\n",
       "      <th>2018</th>\n",
       "      <td>145182</td>\n",
       "      <td>397.758904</td>\n",
       "      <td>365</td>\n",
       "    </tr>\n",
       "    <tr>\n",
       "      <th>2019</th>\n",
       "      <td>145660</td>\n",
       "      <td>399.068493</td>\n",
       "      <td>365</td>\n",
       "    </tr>\n",
       "  </tbody>\n",
       "</table>\n",
       "</div>"
      ],
      "text/plain": [
       "         sum        mean  count\n",
       "year                           \n",
       "2015  139236  381.468493    365\n",
       "2016  142855  390.314208    366\n",
       "2017  147970  405.397260    365\n",
       "2018  145182  397.758904    365\n",
       "2019  145660  399.068493    365"
      ]
     },
     "execution_count": 54,
     "metadata": {},
     "output_type": "execute_result"
    }
   ],
   "source": [
    "# 연도별로 묶었을 떄\n",
    "\n",
    "year_Vehicles_Oper = taxi_copy_df.groupby(by=['year'])['Vehicles Operated'].agg(['sum', 'mean', 'count'])\n",
    "\n",
    "year_Vehicles_Oper.head()"
   ]
  },
  {
   "cell_type": "code",
   "execution_count": 55,
   "metadata": {},
   "outputs": [
    {
     "data": {
      "text/html": [
       "<div>\n",
       "<style scoped>\n",
       "    .dataframe tbody tr th:only-of-type {\n",
       "        vertical-align: middle;\n",
       "    }\n",
       "\n",
       "    .dataframe tbody tr th {\n",
       "        vertical-align: top;\n",
       "    }\n",
       "\n",
       "    .dataframe thead th {\n",
       "        text-align: right;\n",
       "    }\n",
       "</style>\n",
       "<table border=\"1\" class=\"dataframe\">\n",
       "  <thead>\n",
       "    <tr style=\"text-align: right;\">\n",
       "      <th></th>\n",
       "      <th>year</th>\n",
       "      <th>sum</th>\n",
       "      <th>mean</th>\n",
       "      <th>count</th>\n",
       "    </tr>\n",
       "  </thead>\n",
       "  <tbody>\n",
       "    <tr>\n",
       "      <th>0</th>\n",
       "      <td>2015</td>\n",
       "      <td>139236</td>\n",
       "      <td>381.468493</td>\n",
       "      <td>365</td>\n",
       "    </tr>\n",
       "    <tr>\n",
       "      <th>1</th>\n",
       "      <td>2016</td>\n",
       "      <td>142855</td>\n",
       "      <td>390.314208</td>\n",
       "      <td>366</td>\n",
       "    </tr>\n",
       "    <tr>\n",
       "      <th>2</th>\n",
       "      <td>2017</td>\n",
       "      <td>147970</td>\n",
       "      <td>405.397260</td>\n",
       "      <td>365</td>\n",
       "    </tr>\n",
       "    <tr>\n",
       "      <th>3</th>\n",
       "      <td>2018</td>\n",
       "      <td>145182</td>\n",
       "      <td>397.758904</td>\n",
       "      <td>365</td>\n",
       "    </tr>\n",
       "    <tr>\n",
       "      <th>4</th>\n",
       "      <td>2019</td>\n",
       "      <td>145660</td>\n",
       "      <td>399.068493</td>\n",
       "      <td>365</td>\n",
       "    </tr>\n",
       "  </tbody>\n",
       "</table>\n",
       "</div>"
      ],
      "text/plain": [
       "   year     sum        mean  count\n",
       "0  2015  139236  381.468493    365\n",
       "1  2016  142855  390.314208    366\n",
       "2  2017  147970  405.397260    365\n",
       "3  2018  145182  397.758904    365\n",
       "4  2019  145660  399.068493    365"
      ]
     },
     "execution_count": 55,
     "metadata": {},
     "output_type": "execute_result"
    }
   ],
   "source": [
    "year_Vehicles_Oper.reset_index(inplace=True)\n",
    "\n",
    "year_Vehicles_Oper.head()"
   ]
  },
  {
   "cell_type": "code",
   "execution_count": 51,
   "metadata": {
    "executionInfo": {
     "elapsed": 21,
     "status": "ok",
     "timestamp": 1682643014162,
     "user": {
      "displayName": "한기영",
      "userId": "13049187003176135487"
     },
     "user_tz": -540
    },
    "id": "TEaKEofVsTj4"
   },
   "outputs": [
    {
     "data": {
      "text/html": [
       "<div>\n",
       "<style scoped>\n",
       "    .dataframe tbody tr th:only-of-type {\n",
       "        vertical-align: middle;\n",
       "    }\n",
       "\n",
       "    .dataframe tbody tr th {\n",
       "        vertical-align: top;\n",
       "    }\n",
       "\n",
       "    .dataframe thead th {\n",
       "        text-align: right;\n",
       "    }\n",
       "</style>\n",
       "<table border=\"1\" class=\"dataframe\">\n",
       "  <thead>\n",
       "    <tr style=\"text-align: right;\">\n",
       "      <th></th>\n",
       "      <th>year</th>\n",
       "      <th>month</th>\n",
       "      <th>sum</th>\n",
       "      <th>mean</th>\n",
       "      <th>count</th>\n",
       "    </tr>\n",
       "  </thead>\n",
       "  <tbody>\n",
       "    <tr>\n",
       "      <th>0</th>\n",
       "      <td>2015</td>\n",
       "      <td>1</td>\n",
       "      <td>10744</td>\n",
       "      <td>346.580645</td>\n",
       "      <td>31</td>\n",
       "    </tr>\n",
       "    <tr>\n",
       "      <th>1</th>\n",
       "      <td>2015</td>\n",
       "      <td>2</td>\n",
       "      <td>9347</td>\n",
       "      <td>333.821429</td>\n",
       "      <td>28</td>\n",
       "    </tr>\n",
       "    <tr>\n",
       "      <th>2</th>\n",
       "      <td>2015</td>\n",
       "      <td>3</td>\n",
       "      <td>12117</td>\n",
       "      <td>390.870968</td>\n",
       "      <td>31</td>\n",
       "    </tr>\n",
       "    <tr>\n",
       "      <th>3</th>\n",
       "      <td>2015</td>\n",
       "      <td>4</td>\n",
       "      <td>12025</td>\n",
       "      <td>400.833333</td>\n",
       "      <td>30</td>\n",
       "    </tr>\n",
       "    <tr>\n",
       "      <th>4</th>\n",
       "      <td>2015</td>\n",
       "      <td>5</td>\n",
       "      <td>11468</td>\n",
       "      <td>369.935484</td>\n",
       "      <td>31</td>\n",
       "    </tr>\n",
       "  </tbody>\n",
       "</table>\n",
       "</div>"
      ],
      "text/plain": [
       "   year  month    sum        mean  count\n",
       "0  2015      1  10744  346.580645     31\n",
       "1  2015      2   9347  333.821429     28\n",
       "2  2015      3  12117  390.870968     31\n",
       "3  2015      4  12025  400.833333     30\n",
       "4  2015      5  11468  369.935484     31"
      ]
     },
     "execution_count": 51,
     "metadata": {},
     "output_type": "execute_result"
    }
   ],
   "source": [
    "# 아래에 실습코드를 작성하고 결과를 확인합니다.\n",
    "# Assuming 'taxi_copy_df' is your DataFrame and it has 'year', 'month', and 'Vehicles Operated' columns\n",
    "\n",
    "# Grouping by 'year' and 'month', and applying multiple aggregation functions to 'Vehicles Operated'\n",
    "month_Vehicles_Oper = taxi_copy_df.groupby(by=['year', 'month'])['Vehicles Operated'].agg(['sum', 'mean', 'count']).reset_index()\n",
    "\n",
    "# The result will be a DataFrame where:\n",
    "# - 'sum' is the sum of 'Vehicles Operated' for each group\n",
    "# - 'mean' is the average of 'Vehicles Operated' for each group\n",
    "# - 'count' is the number of entries (or data points) for each group\n",
    "\n",
    "# If you want to apply aggregations to multiple columns, you can pass a dictionary to agg():\n",
    "# grouped_data = taxi_copy_df.groupby(by=['year', 'month']).agg({'Vehicles Operated': ['sum', 'mean', 'count'], 'AnotherColumn': ['sum', 'mean']})\n",
    "\n",
    "# Showing the first few rows of the aggregated DataFrame\n",
    "# print(grouped_data.head())\n",
    "\n",
    "# month_Vehicles_Oper = taxi_copy_df.groupby(by=['year', 'month']).sum()\n",
    "\n",
    "month_Vehicles_Oper.head()\n",
    "\n"
   ]
  },
  {
   "cell_type": "code",
   "execution_count": 47,
   "metadata": {},
   "outputs": [
    {
     "data": {
      "image/png": "[encoded data removed]",
      "text/plain": [
       "<Figure size 2000x600 with 1 Axes>"
      ]
     },
     "metadata": {},
     "output_type": "display_data"
    }
   ],
   "source": [
    "import matplotlib.pyplot as plt\n",
    "\n",
    "# Assuming 'month_Vehicles_Oper' is your grouped DataFrame\n",
    "# And assuming 'Vehicles Operated' is the column you're interested in, which has been summed in the grouping\n",
    "\n",
    "# Reset index so 'year' and 'month' become columns in the DataFrame, not just index levels\n",
    "month_Vehicles_Oper_reset = month_Vehicles_Oper.reset_index()\n",
    "\n",
    "# Create a new column to represent the combined year and month, for easier plotting\n",
    "# This assumes 'year' and 'month' columns are in integer format. Adjust formatting as necessary.\n",
    "month_Vehicles_Oper_reset['YearMonth'] = month_Vehicles_Oper_reset['year'].astype(str) + '-' + month_Vehicles_Oper_reset['month'].astype(str).str.zfill(2)\n",
    "\n",
    "# Plotting\n",
    "plt.figure(figsize=(20, 6))  # Adjust the size of the figure as needed\n",
    "plt.bar(month_Vehicles_Oper_reset['YearMonth'], month_Vehicles_Oper_reset['Vehicles Operated'], color='skyblue')  # Assuming the sum of 'Vehicles Operated' is directly accessible\n",
    "plt.xticks(rotation=45)  # Rotate the x-axis labels for better readability\n",
    "plt.xlabel('Year-Month')\n",
    "plt.ylabel('Sum of Vehicles Operated')\n",
    "plt.title('Sum of Vehicles Operated per Month and Year')\n",
    "plt.tight_layout()  # Adjust the layout to make room for the rotated x-axis labels\n",
    "plt.show()\n"
   ]
  },
  {
   "cell_type": "code",
   "execution_count": null,
   "metadata": {
    "colab": {
     "base_uri": "https://localhost:8080/",
     "height": 601
    },
    "executionInfo": {
     "elapsed": 1212,
     "status": "ok",
     "timestamp": 1682643015354,
     "user": {
      "displayName": "한기영",
      "userId": "13049187003176135487"
     },
     "user_tz": -540
    },
    "id": "l3by6vERsTj-",
    "outputId": "881ec85a-5dde-48ea-d966-80de06cf4ecf"
   },
   "outputs": [],
   "source": [
    "# 아래에 실습코드를 작성하고 결과를 확인합니다.\n",
    "\n"
   ]
  },
  {
   "cell_type": "markdown",
   "metadata": {
    "id": "HSix1Uahqi0a"
   },
   "source": [
    "* 접수건, 탑승건"
   ]
  },
  {
   "cell_type": "code",
   "execution_count": null,
   "metadata": {
    "executionInfo": {
     "elapsed": 10,
     "status": "ok",
     "timestamp": 1682643015355,
     "user": {
      "displayName": "한기영",
      "userId": "13049187003176135487"
     },
     "user_tz": -540
    },
    "id": "Nlscaf9ssZOg"
   },
   "outputs": [],
   "source": [
    "# 아래에 실습코드를 작성하고 결과를 확인합니다.\n",
    "\n"
   ]
  },
  {
   "cell_type": "code",
   "execution_count": null,
   "metadata": {
    "colab": {
     "base_uri": "https://localhost:8080/",
     "height": 601
    },
    "executionInfo": {
     "elapsed": 1496,
     "status": "ok",
     "timestamp": 1682643016843,
     "user": {
      "displayName": "한기영",
      "userId": "13049187003176135487"
     },
     "user_tz": -540
    },
    "id": "4CAdtQAJsZOg",
    "outputId": "4f3dbc2f-d5e1-4097-c6a2-b56b692e112b"
   },
   "outputs": [],
   "source": [
    "# 아래에 실습코드를 작성하고 결과를 확인합니다.\n",
    "\n"
   ]
  },
  {
   "cell_type": "markdown",
   "metadata": {
    "id": "_Qe2QOiZrNCO"
   },
   "source": [
    "* 대기시간"
   ]
  },
  {
   "cell_type": "code",
   "execution_count": null,
   "metadata": {
    "executionInfo": {
     "elapsed": 9,
     "status": "ok",
     "timestamp": 1682643016844,
     "user": {
      "displayName": "한기영",
      "userId": "13049187003176135487"
     },
     "user_tz": -540
    },
    "id": "sbyh4TNJssGF"
   },
   "outputs": [],
   "source": [
    "# 아래에 실습코드를 작성하고 결과를 확인합니다.\n",
    "\n"
   ]
  },
  {
   "cell_type": "code",
   "execution_count": null,
   "metadata": {
    "colab": {
     "base_uri": "https://localhost:8080/",
     "height": 608
    },
    "executionInfo": {
     "elapsed": 1205,
     "status": "ok",
     "timestamp": 1682643018041,
     "user": {
      "displayName": "한기영",
      "userId": "13049187003176135487"
     },
     "user_tz": -540
    },
    "id": "mSJEyxkgssGU",
    "outputId": "b771f087-d506-4817-c1ec-092b775480e5"
   },
   "outputs": [],
   "source": [
    "# 아래에 실습코드를 작성하고 결과를 확인합니다.\n",
    "\n"
   ]
  },
  {
   "cell_type": "markdown",
   "metadata": {
    "id": "xNcd_K34r1_x"
   },
   "source": [
    "* 운임"
   ]
  },
  {
   "cell_type": "code",
   "execution_count": null,
   "metadata": {
    "executionInfo": {
     "elapsed": 12,
     "status": "ok",
     "timestamp": 1682643018042,
     "user": {
      "displayName": "한기영",
      "userId": "13049187003176135487"
     },
     "user_tz": -540
    },
    "id": "2R28ML03r1_y"
   },
   "outputs": [],
   "source": [
    "# 아래에 실습코드를 작성하고 결과를 확인합니다.\n",
    "\n"
   ]
  },
  {
   "cell_type": "code",
   "execution_count": null,
   "metadata": {
    "colab": {
     "base_uri": "https://localhost:8080/",
     "height": 601
    },
    "executionInfo": {
     "elapsed": 1051,
     "status": "ok",
     "timestamp": 1682643019083,
     "user": {
      "displayName": "한기영",
      "userId": "13049187003176135487"
     },
     "user_tz": -540
    },
    "id": "ir8hGqXjr1_y",
    "outputId": "9d775701-44f7-4c54-b8bd-cdf10ee2dc24"
   },
   "outputs": [],
   "source": [
    "# 아래에 실습코드를 작성하고 결과를 확인합니다.\n",
    "\n"
   ]
  },
  {
   "cell_type": "markdown",
   "metadata": {
    "id": "iTZ4UT5cs2cH"
   },
   "source": [
    "* 이동거리"
   ]
  },
  {
   "cell_type": "code",
   "execution_count": null,
   "metadata": {
    "executionInfo": {
     "elapsed": 13,
     "status": "ok",
     "timestamp": 1682643019084,
     "user": {
      "displayName": "한기영",
      "userId": "13049187003176135487"
     },
     "user_tz": -540
    },
    "id": "w0rm-1OJs2cI"
   },
   "outputs": [],
   "source": [
    "# 아래에 실습코드를 작성하고 결과를 확인합니다.\n",
    "\n"
   ]
  },
  {
   "cell_type": "code",
   "execution_count": null,
   "metadata": {
    "colab": {
     "base_uri": "https://localhost:8080/",
     "height": 597
    },
    "executionInfo": {
     "elapsed": 1312,
     "status": "ok",
     "timestamp": 1682643020385,
     "user": {
      "displayName": "한기영",
      "userId": "13049187003176135487"
     },
     "user_tz": -540
    },
    "id": "mU6dSjNFs2cI",
    "outputId": "f9913958-8412-4bf9-9b8f-224640edb00c"
   },
   "outputs": [],
   "source": [
    "# 아래에 실습코드를 작성하고 결과를 확인합니다.\n",
    "\n"
   ]
  },
  {
   "cell_type": "markdown",
   "metadata": {
    "id": "NM9AgH3uqGHQ"
   },
   "source": [
    "### (3) 요일별"
   ]
  },
  {
   "cell_type": "markdown",
   "metadata": {
    "id": "_AKI4v7itbp0"
   },
   "source": [
    "* 차량 운행수"
   ]
  },
  {
   "cell_type": "code",
   "execution_count": null,
   "metadata": {
    "executionInfo": {
     "elapsed": 21,
     "status": "ok",
     "timestamp": 1682643020386,
     "user": {
      "displayName": "한기영",
      "userId": "13049187003176135487"
     },
     "user_tz": -540
    },
    "id": "0eLzkzKytbp7"
   },
   "outputs": [],
   "source": [
    "# 아래에 실습코드를 작성하고 결과를 확인합니다.\n",
    "\n"
   ]
  },
  {
   "cell_type": "code",
   "execution_count": null,
   "metadata": {
    "colab": {
     "base_uri": "https://localhost:8080/",
     "height": 542
    },
    "executionInfo": {
     "elapsed": 19,
     "status": "ok",
     "timestamp": 1682643020386,
     "user": {
      "displayName": "한기영",
      "userId": "13049187003176135487"
     },
     "user_tz": -540
    },
    "id": "P-6JhhoDtbp7",
    "outputId": "1dd7b5c7-baf3-4390-e878-2e13dcf827c6"
   },
   "outputs": [],
   "source": [
    "# 아래에 실습코드를 작성하고 결과를 확인합니다.\n",
    "\n"
   ]
  },
  {
   "cell_type": "markdown",
   "metadata": {
    "id": "5auZLv3Ntbp7"
   },
   "source": [
    "* 접수건, 탑승건"
   ]
  },
  {
   "cell_type": "code",
   "execution_count": null,
   "metadata": {
    "executionInfo": {
     "elapsed": 17,
     "status": "ok",
     "timestamp": 1682643020387,
     "user": {
      "displayName": "한기영",
      "userId": "13049187003176135487"
     },
     "user_tz": -540
    },
    "id": "I68npNjdt4iD"
   },
   "outputs": [],
   "source": [
    "# 아래에 실습코드를 작성하고 결과를 확인합니다.\n",
    "\n"
   ]
  },
  {
   "cell_type": "code",
   "execution_count": null,
   "metadata": {
    "colab": {
     "base_uri": "https://localhost:8080/",
     "height": 363
    },
    "executionInfo": {
     "elapsed": 16,
     "status": "ok",
     "timestamp": 1682643020387,
     "user": {
      "displayName": "한기영",
      "userId": "13049187003176135487"
     },
     "user_tz": -540
    },
    "id": "75sy-ltFt4iJ",
    "outputId": "f35dcb93-9fbc-4f58-fe69-d86f9bbf7c12"
   },
   "outputs": [],
   "source": [
    "# 아래에 실습코드를 작성하고 결과를 확인합니다.\n",
    "\n"
   ]
  },
  {
   "cell_type": "markdown",
   "metadata": {
    "id": "-HDr-AH7tbp7"
   },
   "source": [
    "* 대기시간"
   ]
  },
  {
   "cell_type": "code",
   "execution_count": null,
   "metadata": {
    "executionInfo": {
     "elapsed": 14,
     "status": "ok",
     "timestamp": 1682643020387,
     "user": {
      "displayName": "한기영",
      "userId": "13049187003176135487"
     },
     "user_tz": -540
    },
    "id": "-wTbBJ3_tbp8"
   },
   "outputs": [],
   "source": [
    "# 아래에 실습코드를 작성하고 결과를 확인합니다.\n",
    "\n"
   ]
  },
  {
   "cell_type": "code",
   "execution_count": null,
   "metadata": {
    "colab": {
     "base_uri": "https://localhost:8080/",
     "height": 547
    },
    "executionInfo": {
     "elapsed": 981,
     "status": "ok",
     "timestamp": 1682643021355,
     "user": {
      "displayName": "한기영",
      "userId": "13049187003176135487"
     },
     "user_tz": -540
    },
    "id": "bw1DX6TJtbp8",
    "outputId": "9fffe277-12a3-4509-be93-481100c5d9ca"
   },
   "outputs": [],
   "source": [
    "# 아래에 실습코드를 작성하고 결과를 확인합니다.\n",
    "\n"
   ]
  },
  {
   "cell_type": "markdown",
   "metadata": {
    "id": "ei3jZiZrtbp8"
   },
   "source": [
    "* 운임"
   ]
  },
  {
   "cell_type": "code",
   "execution_count": null,
   "metadata": {
    "executionInfo": {
     "elapsed": 30,
     "status": "ok",
     "timestamp": 1682643021356,
     "user": {
      "displayName": "한기영",
      "userId": "13049187003176135487"
     },
     "user_tz": -540
    },
    "id": "FftXV-e6tbp8"
   },
   "outputs": [],
   "source": [
    "# 아래에 실습코드를 작성하고 결과를 확인합니다.\n",
    "\n"
   ]
  },
  {
   "cell_type": "code",
   "execution_count": null,
   "metadata": {
    "colab": {
     "base_uri": "https://localhost:8080/",
     "height": 542
    },
    "executionInfo": {
     "elapsed": 28,
     "status": "ok",
     "timestamp": 1682643021357,
     "user": {
      "displayName": "한기영",
      "userId": "13049187003176135487"
     },
     "user_tz": -540
    },
    "id": "1eaaj61ftbp8",
    "outputId": "5065afee-d6c9-4dcf-9c61-9f7ed164a0f2"
   },
   "outputs": [],
   "source": [
    "# 아래에 실습코드를 작성하고 결과를 확인합니다.\n",
    "\n"
   ]
  },
  {
   "cell_type": "markdown",
   "metadata": {
    "id": "xonkXJp-tbp8"
   },
   "source": [
    "* 이동거리"
   ]
  },
  {
   "cell_type": "code",
   "execution_count": null,
   "metadata": {
    "executionInfo": {
     "elapsed": 26,
     "status": "ok",
     "timestamp": 1682643021358,
     "user": {
      "displayName": "한기영",
      "userId": "13049187003176135487"
     },
     "user_tz": -540
    },
    "id": "kcOWzW9stbp9"
   },
   "outputs": [],
   "source": [
    "# 아래에 실습코드를 작성하고 결과를 확인합니다.\n",
    "\n"
   ]
  },
  {
   "cell_type": "code",
   "execution_count": null,
   "metadata": {
    "colab": {
     "base_uri": "https://localhost:8080/",
     "height": 542
    },
    "executionInfo": {
     "elapsed": 26,
     "status": "ok",
     "timestamp": 1682643021359,
     "user": {
      "displayName": "한기영",
      "userId": "13049187003176135487"
     },
     "user_tz": -540
    },
    "id": "FMcuw6Vptbp9",
    "outputId": "0fab6d10-185f-4da4-da1c-1c67709e8900"
   },
   "outputs": [],
   "source": [
    "# 아래에 실습코드를 작성하고 결과를 확인합니다.\n",
    "\n"
   ]
  },
  {
   "cell_type": "markdown",
   "metadata": {
    "id": "VeG-i_RdqhNA"
   },
   "source": [
    "### (4) 월별"
   ]
  },
  {
   "cell_type": "markdown",
   "metadata": {
    "id": "wB5ZVhHguej0"
   },
   "source": [
    "* 차량 운행수"
   ]
  },
  {
   "cell_type": "code",
   "execution_count": null,
   "metadata": {
    "executionInfo": {
     "elapsed": 24,
     "status": "ok",
     "timestamp": 1682643021359,
     "user": {
      "displayName": "한기영",
      "userId": "13049187003176135487"
     },
     "user_tz": -540
    },
    "id": "pWAB_flnuej7"
   },
   "outputs": [],
   "source": [
    "# 아래에 실습코드를 작성하고 결과를 확인합니다.\n",
    "\n"
   ]
  },
  {
   "cell_type": "code",
   "execution_count": null,
   "metadata": {
    "colab": {
     "base_uri": "https://localhost:8080/",
     "height": 0
    },
    "executionInfo": {
     "elapsed": 23,
     "status": "ok",
     "timestamp": 1682643021359,
     "user": {
      "displayName": "한기영",
      "userId": "13049187003176135487"
     },
     "user_tz": -540
    },
    "id": "r-JJZrpruej7",
    "outputId": "963fb36c-53e2-4bb9-af2d-710b59802a6a"
   },
   "outputs": [],
   "source": [
    "# 아래에 실습코드를 작성하고 결과를 확인합니다.\n",
    "\n"
   ]
  },
  {
   "cell_type": "markdown",
   "metadata": {
    "id": "eUEbCvtjuej7"
   },
   "source": [
    "* 접수건, 탑승건"
   ]
  },
  {
   "cell_type": "code",
   "execution_count": null,
   "metadata": {
    "executionInfo": {
     "elapsed": 22,
     "status": "ok",
     "timestamp": 1682643021360,
     "user": {
      "displayName": "한기영",
      "userId": "13049187003176135487"
     },
     "user_tz": -540
    },
    "id": "MtJxpirguej7"
   },
   "outputs": [],
   "source": [
    "# 아래에 실습코드를 작성하고 결과를 확인합니다.\n",
    "\n"
   ]
  },
  {
   "cell_type": "code",
   "execution_count": null,
   "metadata": {
    "colab": {
     "base_uri": "https://localhost:8080/",
     "height": 0
    },
    "executionInfo": {
     "elapsed": 710,
     "status": "ok",
     "timestamp": 1682643022049,
     "user": {
      "displayName": "한기영",
      "userId": "13049187003176135487"
     },
     "user_tz": -540
    },
    "id": "1y5xhCakuej8",
    "outputId": "e7523a1b-fb19-4f79-f011-107ae35bcf4f"
   },
   "outputs": [],
   "source": [
    "# 아래에 실습코드를 작성하고 결과를 확인합니다.\n",
    "\n"
   ]
  },
  {
   "cell_type": "markdown",
   "metadata": {
    "id": "PLQheTtguej8"
   },
   "source": [
    "* 대기시간"
   ]
  },
  {
   "cell_type": "code",
   "execution_count": null,
   "metadata": {
    "executionInfo": {
     "elapsed": 8,
     "status": "ok",
     "timestamp": 1682643022050,
     "user": {
      "displayName": "한기영",
      "userId": "13049187003176135487"
     },
     "user_tz": -540
    },
    "id": "syVa5cC5uej8"
   },
   "outputs": [],
   "source": [
    "# 아래에 실습코드를 작성하고 결과를 확인합니다.\n",
    "\n"
   ]
  },
  {
   "cell_type": "code",
   "execution_count": null,
   "metadata": {
    "colab": {
     "base_uri": "https://localhost:8080/",
     "height": 0
    },
    "executionInfo": {
     "elapsed": 785,
     "status": "ok",
     "timestamp": 1682643022828,
     "user": {
      "displayName": "한기영",
      "userId": "13049187003176135487"
     },
     "user_tz": -540
    },
    "id": "zY_GB1Ivuej8",
    "outputId": "6c8c5e5c-0fdc-40a1-d539-93614c9cd991"
   },
   "outputs": [],
   "source": [
    "# 아래에 실습코드를 작성하고 결과를 확인합니다.\n",
    "\n"
   ]
  },
  {
   "cell_type": "markdown",
   "metadata": {
    "id": "yylWmAExuej8"
   },
   "source": [
    "* 운임"
   ]
  },
  {
   "cell_type": "code",
   "execution_count": null,
   "metadata": {
    "executionInfo": {
     "elapsed": 17,
     "status": "ok",
     "timestamp": 1682643022829,
     "user": {
      "displayName": "한기영",
      "userId": "13049187003176135487"
     },
     "user_tz": -540
    },
    "id": "d_QEZGSBuej8"
   },
   "outputs": [],
   "source": [
    "# 아래에 실습코드를 작성하고 결과를 확인합니다.\n",
    "\n"
   ]
  },
  {
   "cell_type": "code",
   "execution_count": null,
   "metadata": {
    "colab": {
     "base_uri": "https://localhost:8080/",
     "height": 0
    },
    "executionInfo": {
     "elapsed": 16,
     "status": "ok",
     "timestamp": 1682643022830,
     "user": {
      "displayName": "한기영",
      "userId": "13049187003176135487"
     },
     "user_tz": -540
    },
    "id": "VuZteSNfuej9",
    "outputId": "1a29fae7-9e1b-4fea-ed05-bc4faad66f72"
   },
   "outputs": [],
   "source": [
    "# 아래에 실습코드를 작성하고 결과를 확인합니다.\n",
    "\n"
   ]
  },
  {
   "cell_type": "markdown",
   "metadata": {
    "id": "apAOww4vuej9"
   },
   "source": [
    "* 이동거리"
   ]
  },
  {
   "cell_type": "code",
   "execution_count": null,
   "metadata": {
    "executionInfo": {
     "elapsed": 15,
     "status": "ok",
     "timestamp": 1682643022831,
     "user": {
      "displayName": "한기영",
      "userId": "13049187003176135487"
     },
     "user_tz": -540
    },
    "id": "0tGeb8ikuej9"
   },
   "outputs": [],
   "source": [
    "# 아래에 실습코드를 작성하고 결과를 확인합니다.\n",
    "\n"
   ]
  },
  {
   "cell_type": "code",
   "execution_count": null,
   "metadata": {
    "colab": {
     "base_uri": "https://localhost:8080/",
     "height": 0
    },
    "executionInfo": {
     "elapsed": 750,
     "status": "ok",
     "timestamp": 1682643023567,
     "user": {
      "displayName": "한기영",
      "userId": "13049187003176135487"
     },
     "user_tz": -540
    },
    "id": "yqYlL3F0uej9",
    "outputId": "ef0bd396-0588-433b-a949-475bd6cccc2a"
   },
   "outputs": [],
   "source": [
    "# 아래에 실습코드를 작성하고 결과를 확인합니다.\n",
    "\n"
   ]
  },
  {
   "cell_type": "markdown",
   "metadata": {
    "id": "CwSb2GuKuw3B"
   },
   "source": [
    "### (5) 연도별"
   ]
  },
  {
   "cell_type": "markdown",
   "metadata": {
    "id": "PHJYpdcuuw3B"
   },
   "source": [
    "* 차량 운행수"
   ]
  },
  {
   "cell_type": "code",
   "execution_count": null,
   "metadata": {
    "executionInfo": {
     "elapsed": 18,
     "status": "ok",
     "timestamp": 1682643023568,
     "user": {
      "displayName": "한기영",
      "userId": "13049187003176135487"
     },
     "user_tz": -540
    },
    "id": "OhRmKpZiuw3C"
   },
   "outputs": [],
   "source": [
    "# 아래에 실습코드를 작성하고 결과를 확인합니다.\n",
    "\n"
   ]
  },
  {
   "cell_type": "code",
   "execution_count": null,
   "metadata": {
    "colab": {
     "base_uri": "https://localhost:8080/",
     "height": 0
    },
    "executionInfo": {
     "elapsed": 17,
     "status": "ok",
     "timestamp": 1682643023569,
     "user": {
      "displayName": "한기영",
      "userId": "13049187003176135487"
     },
     "user_tz": -540
    },
    "id": "mQnflm93uw3C",
    "outputId": "be01222b-57a1-4dea-8aaa-fa61799c405f"
   },
   "outputs": [],
   "source": [
    "# 아래에 실습코드를 작성하고 결과를 확인합니다.\n",
    "\n"
   ]
  },
  {
   "cell_type": "markdown",
   "metadata": {
    "id": "31V3g_cquw3C"
   },
   "source": [
    "* 접수건, 탑승건"
   ]
  },
  {
   "cell_type": "code",
   "execution_count": null,
   "metadata": {
    "executionInfo": {
     "elapsed": 15,
     "status": "ok",
     "timestamp": 1682643023569,
     "user": {
      "displayName": "한기영",
      "userId": "13049187003176135487"
     },
     "user_tz": -540
    },
    "id": "5_3Pb2s8uw3C"
   },
   "outputs": [],
   "source": [
    "# 아래에 실습코드를 작성하고 결과를 확인합니다.\n",
    "\n"
   ]
  },
  {
   "cell_type": "code",
   "execution_count": null,
   "metadata": {
    "colab": {
     "base_uri": "https://localhost:8080/",
     "height": 0
    },
    "executionInfo": {
     "elapsed": 888,
     "status": "ok",
     "timestamp": 1682643024443,
     "user": {
      "displayName": "한기영",
      "userId": "13049187003176135487"
     },
     "user_tz": -540
    },
    "id": "KMGNajAMuw3C",
    "outputId": "8f351e0f-b3b9-4f2d-d95c-6fc995e12e3d"
   },
   "outputs": [],
   "source": [
    "# 아래에 실습코드를 작성하고 결과를 확인합니다.\n",
    "\n"
   ]
  },
  {
   "cell_type": "markdown",
   "metadata": {
    "id": "TO79xpdXz0St"
   },
   "source": [
    "## 3.데이터 구조 만들기\n",
    "\n",
    "* **세부요구사항**\n",
    "    * 조건 : \n",
    "        * 목표 : 전날 저녁, 다음날 평균 대기시간을 예측하고자 합니다.\n",
    "        * 날씨 데이터는 실제 측정값이지만, 다음 날에 대한 예보 데이터로 간주합니다. \n",
    "            * 예를 들어, \n",
    "                * 2020-12-23 의 날씨 데이터는 전날(12월22일) 날씨예보 데이터로 간주하여 분석을 수행합니다.\n",
    "                * 2020-12-22일의 장애인 이동 데이터로 23일의 대기시간을 예측해야 하며, 이때 고려할 날씨데이터는 23일 데이터 입니다.\n",
    "    * 장애인 이동 데이터를 기준으로 날씨 데이터를 붙입니다."
   ]
  },
  {
   "cell_type": "code",
   "execution_count": null,
   "metadata": {
    "executionInfo": {
     "elapsed": 31,
     "status": "ok",
     "timestamp": 1682643024444,
     "user": {
      "displayName": "한기영",
      "userId": "13049187003176135487"
     },
     "user_tz": -540
    },
    "id": "J9ib6-oEtsj7"
   },
   "outputs": [],
   "source": [
    "# 아래에 실습코드를 작성하고 결과를 확인합니다.\n",
    "\n"
   ]
  },
  {
   "cell_type": "markdown",
   "metadata": {
    "id": "ftyolqe60QcQ"
   },
   "source": [
    "### (1) target 만들기\n",
    "* 예측하는 날짜, 대기시간(target)으로 기준을 잡습니다."
   ]
  },
  {
   "cell_type": "code",
   "execution_count": null,
   "metadata": {
    "colab": {
     "base_uri": "https://localhost:8080/",
     "height": 423
    },
    "executionInfo": {
     "elapsed": 30,
     "status": "ok",
     "timestamp": 1682643024445,
     "user": {
      "displayName": "한기영",
      "userId": "13049187003176135487"
     },
     "user_tz": -540
    },
    "id": "p6YxTMCg0ZWf",
    "outputId": "b0750adb-2042-4151-fa6d-58efae1a8a62"
   },
   "outputs": [],
   "source": [
    "# 아래에 실습코드를 작성하고 결과를 확인합니다.\n",
    "# 익일의 대기시간(waiting time)을 오늘의 데이터를 활용하여 예측 해야하는 대상(target)으로 설정\n",
    "\n"
   ]
  },
  {
   "cell_type": "markdown",
   "metadata": {
    "id": "DYUq-0NRUCjE"
   },
   "source": [
    "### (2) 날씨 데이터 붙이기\n",
    "* merge를 활용합니다. 기준은 운행정보 입니다."
   ]
  },
  {
   "cell_type": "code",
   "execution_count": null,
   "metadata": {},
   "outputs": [],
   "source": [
    "# 아래에 실습코드를 작성하고 결과를 확인합니다.\n",
    "# 익일의 실제 날씨 데이터를 전일에 발표된 예보데이터로 판단\n"
   ]
  },
  {
   "cell_type": "code",
   "execution_count": null,
   "metadata": {
    "colab": {
     "base_uri": "https://localhost:8080/",
     "height": 661
    },
    "executionInfo": {
     "elapsed": 29,
     "status": "ok",
     "timestamp": 1682643024446,
     "user": {
      "displayName": "한기영",
      "userId": "13049187003176135487"
     },
     "user_tz": -540
    },
    "id": "40yEcHs4Vcje",
    "outputId": "13eff934-019f-475c-f1af-975fda3c3198"
   },
   "outputs": [],
   "source": [
    "# 아래에 실습코드를 작성하고 결과를 확인합니다.\n",
    "\n"
   ]
  },
  {
   "cell_type": "markdown",
   "metadata": {
    "id": "jj9Hs5bcX5OT"
   },
   "source": [
    "### (3) 새로운 feature를 생성해 봅시다.\n",
    "* 날짜와 관련된 변수 추가하기 : 요일, 월, 계절, 연도\n",
    "* 그외 새로운 feature 도출 : 최소 2개 이상\n",
    "    * 예 : 공휴일, 최근 7주일간의 평균 대기시간, 탑승률 등"
   ]
  },
  {
   "cell_type": "markdown",
   "metadata": {
    "id": "qY1k-Rz3abg5"
   },
   "source": [
    "#### 1) 날짜와 관련된 변수 추가하기 : 요일, 월, 계절, 연도\n",
    "* 요일 이름, 계절이름, 월 이름으로 만드는 경우에는, 변수를 pd.Categorical로 범주형을 만들면서 순서를 지정하는 것이 이후 그래프를 그릴 때 순서대로 표현할 수 있습니다.\n"
   ]
  },
  {
   "cell_type": "code",
   "execution_count": null,
   "metadata": {
    "colab": {
     "base_uri": "https://localhost:8080/",
     "height": 661
    },
    "executionInfo": {
     "elapsed": 28,
     "status": "ok",
     "timestamp": 1682643024447,
     "user": {
      "displayName": "한기영",
      "userId": "13049187003176135487"
     },
     "user_tz": -540
    },
    "id": "b-N-DvK5aObm",
    "outputId": "2ccaab35-88ce-4aac-f3af-a25bbf90ea95"
   },
   "outputs": [],
   "source": [
    "# data0['weekday'] = data0['Date'].dt.day_name()\n",
    "# data0['weekday'] = pd.Categorical(data0['weekday'], \n",
    "#                                   categories=['Monday','Tuesday','Wednesday','Thursday','Friday','Saturday','Sunday'])\n",
    "# data0['month'] = data0['Date'].dt.month\n",
    "\n",
    "# data0['season'] = np.where(data0['month'].isin([3,4,5]), 'Spring',\n",
    "#                            np.where(data0['month'].isin([6,7,8]), 'Summer',\n",
    "#                                     np.where(data0['month'].isin([9,10,11]), 'Fall', 'Winter')))\n",
    "# data0['season'] = pd.Categorical(data0['season'], categories=['Spring','Summer','Fall','Winter'])\n",
    "                                     \n",
    "# data0['year'] = data0['Date'].dt.year\n",
    "# data0"
   ]
  },
  {
   "cell_type": "markdown",
   "metadata": {
    "id": "P0exvho5bJu0"
   },
   "source": [
    "#### 2) 공휴일 정보\n",
    "* workalendar 패키지를 설치하고, 대한민국 공휴일 정보를 끌어와 봅시다."
   ]
  },
  {
   "cell_type": "markdown",
   "metadata": {
    "id": "rIVL7P-eOxlu"
   },
   "source": [
    "* 휴무일 데이터 패키지 설치"
   ]
  },
  {
   "cell_type": "code",
   "execution_count": null,
   "metadata": {
    "colab": {
     "base_uri": "https://localhost:8080/"
    },
    "executionInfo": {
     "elapsed": 4697,
     "status": "ok",
     "timestamp": 1682643029118,
     "user": {
      "displayName": "한기영",
      "userId": "13049187003176135487"
     },
     "user_tz": -540
    },
    "id": "WzeatBPnXzmq",
    "outputId": "cb700fa5-d650-46c9-a801-91e123e9f78a"
   },
   "outputs": [],
   "source": [
    "# !pip install workalendar"
   ]
  },
  {
   "cell_type": "markdown",
   "metadata": {
    "id": "wutMCvycO1s0"
   },
   "source": [
    "* 간단 사용법"
   ]
  },
  {
   "cell_type": "code",
   "execution_count": null,
   "metadata": {
    "colab": {
     "base_uri": "https://localhost:8080/",
     "height": 520
    },
    "executionInfo": {
     "elapsed": 32,
     "status": "ok",
     "timestamp": 1682643029609,
     "user": {
      "displayName": "한기영",
      "userId": "13049187003176135487"
     },
     "user_tz": -540
    },
    "id": "_BhDiwDpOwcQ",
    "outputId": "9325a7eb-da0b-442e-e955-4670100fce1e"
   },
   "outputs": [],
   "source": [
    "# from workalendar.asia import SouthKorea\n",
    "# cal = SouthKorea()\n",
    "# pd.DataFrame(cal.holidays(2023))"
   ]
  },
  {
   "cell_type": "markdown",
   "metadata": {
    "id": "BPag0pQoPQ_e"
   },
   "source": [
    "* 휴무일 데이터셋 만들기 2015 ~ 2022\n",
    "* 실제로 휴무일에 해당하지만 workalendar 라이브러리에 없는 날짜는 직접 추가해봅시다.\n",
    "    * 휴무일 장애인 콜택시의 접수건 변화에 대한 특징을 찾아 이를 바탕으로 데이터를 조회하여 찾아볼 수 있음"
   ]
  },
  {
   "cell_type": "code",
   "execution_count": null,
   "metadata": {
    "colab": {
     "base_uri": "https://localhost:8080/",
     "height": 423
    },
    "executionInfo": {
     "elapsed": 32,
     "status": "ok",
     "timestamp": 1682643029611,
     "user": {
      "displayName": "한기영",
      "userId": "13049187003176135487"
     },
     "user_tz": -540
    },
    "id": "EWqrK9kkZsFH",
    "outputId": "d3d66a33-0a29-457e-bcf3-b1742760fe27"
   },
   "outputs": [],
   "source": [
    "# from workalendar.asia import SouthKorea\n",
    "\n",
    "# cal = SouthKorea()\n",
    "# holiday = pd.DataFrame()\n",
    "# for y in range(2015, 2023) :\n",
    "#     holiday = pd.concat([holiday, pd.DataFrame(cal.holidays(y))], axis = 0)\n",
    "\n",
    "# holiday.columns = ['Date', 'holiday']\n",
    "# holiday['Date'] = pd.to_datetime(holiday['Date'])\n",
    "# holiday['holiday'] = 1\n",
    "# holiday"
   ]
  },
  {
   "cell_type": "markdown",
   "metadata": {
    "id": "L5cOYlg0hdpX"
   },
   "source": [
    "* 기존 데이터에 휴무일 정보 결합하기.\n",
    "* 휴무일이 아닌 날짜는 0으로 저장하시오."
   ]
  },
  {
   "cell_type": "code",
   "execution_count": null,
   "metadata": {
    "executionInfo": {
     "elapsed": 31,
     "status": "ok",
     "timestamp": 1682643029612,
     "user": {
      "displayName": "한기영",
      "userId": "13049187003176135487"
     },
     "user_tz": -540
    },
    "id": "jHHh4H8icL3D"
   },
   "outputs": [],
   "source": [
    "# data0 = pd.merge(data0, holiday, how = 'left')\n",
    "# data1 = data0.fillna({'holiday':0})"
   ]
  },
  {
   "cell_type": "markdown",
   "metadata": {
    "id": "bBnWrSF9dHMP"
   },
   "source": [
    "#### 3) 7일 이동평균 대기시간\n",
    "* rolling().mean() 사용"
   ]
  },
  {
   "cell_type": "code",
   "execution_count": null,
   "metadata": {
    "colab": {
     "base_uri": "https://localhost:8080/",
     "height": 661
    },
    "executionInfo": {
     "elapsed": 31,
     "status": "ok",
     "timestamp": 1682643029613,
     "user": {
      "displayName": "한기영",
      "userId": "13049187003176135487"
     },
     "user_tz": -540
    },
    "id": "9fk23rt6dK53",
    "outputId": "0af2f175-e802-4e29-8ad2-03c662273d5a"
   },
   "outputs": [],
   "source": [
    "# 아래에 실습코드를 작성하고 결과를 확인합니다.\n",
    "\n"
   ]
  },
  {
   "cell_type": "markdown",
   "metadata": {
    "id": "eMZJxlaReHZW"
   },
   "source": [
    "#### 4) 탑승률"
   ]
  },
  {
   "cell_type": "code",
   "execution_count": null,
   "metadata": {
    "colab": {
     "base_uri": "https://localhost:8080/",
     "height": 661
    },
    "executionInfo": {
     "elapsed": 29,
     "status": "ok",
     "timestamp": 1682643029613,
     "user": {
      "displayName": "한기영",
      "userId": "13049187003176135487"
     },
     "user_tz": -540
    },
    "id": "BchF6jZTeMXJ",
    "outputId": "efd902a7-4c08-4f95-d4f9-17dd1c0ada96"
   },
   "outputs": [],
   "source": [
    "# 아래에 실습코드를 작성하고 결과를 확인합니다.\n",
    "\n"
   ]
  },
  {
   "cell_type": "markdown",
   "metadata": {
    "id": "_xX5H9wZPuv9"
   },
   "source": [
    "## 4.데이터 저장\n",
    "* **세부요구사항**\n",
    "    * joblib 을 사용하여 작업 경로에 정리한 데이터프레임을 저장합니다.\n",
    "        * 저장파일이름 : data1.pkl"
   ]
  },
  {
   "cell_type": "code",
   "execution_count": null,
   "metadata": {
    "colab": {
     "base_uri": "https://localhost:8080/"
    },
    "executionInfo": {
     "elapsed": 29,
     "status": "ok",
     "timestamp": 1682643029614,
     "user": {
      "displayName": "한기영",
      "userId": "13049187003176135487"
     },
     "user_tz": -540
    },
    "id": "DAPll27LPltQ",
    "outputId": "3e23dc30-dee4-4609-e194-22e2c9f794a6"
   },
   "outputs": [],
   "source": [
    "# 아래에 실습코드를 작성하고 결과를 확인합니다.\n",
    "\n"
   ]
  }
 ],
 "metadata": {
  "colab": {
   "collapsed_sections": [
    "VeG-i_RdqhNA",
    "CwSb2GuKuw3B"
   ],
   "provenance": [],
   "toc_visible": true
  },
  "kernelspec": {
   "display_name": "Python 3 (ipykernel)",
   "language": "python",
   "name": "python3"
  },
  "language_info": {
   "codemirror_mode": {
    "name": "ipython",
    "version": 3
   },
   "file_extension": ".py",
   "mimetype": "text/x-python",
   "name": "python",
   "nbconvert_exporter": "python",
   "pygments_lexer": "ipython3",
   "version": "3.9.13"
  }
 },
 "nbformat": 4,
 "nbformat_minor": 4
}
